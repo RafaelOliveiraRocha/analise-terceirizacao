{
 "cells": [
  {
   "cell_type": "code",
   "execution_count": null,
   "metadata": {},
   "outputs": [
    {
     "data": {
      "text/html": [
       "<div>\n",
       "<style scoped>\n",
       "    .dataframe tbody tr th:only-of-type {\n",
       "        vertical-align: middle;\n",
       "    }\n",
       "\n",
       "    .dataframe tbody tr th {\n",
       "        vertical-align: top;\n",
       "    }\n",
       "\n",
       "    .dataframe thead th {\n",
       "        text-align: right;\n",
       "    }\n",
       "</style>\n",
       "<table border=\"1\" class=\"dataframe\">\n",
       "  <thead>\n",
       "    <tr style=\"text-align: right;\">\n",
       "      <th></th>\n",
       "      <th>ORDER APPJUSTO</th>\n",
       "      <th>DISTANCE (KM)</th>\n",
       "      <th>TOTAL PAGO LALAMOVE</th>\n",
       "      <th>TAXA DE ENTREGA</th>\n",
       "      <th>PREÇO INICIAL</th>\n",
       "      <th>PREÇO KM EXTRA</th>\n",
       "      <th>TAXA DE PRIORIDADE</th>\n",
       "      <th>TAXA DE SOBRECARGA</th>\n",
       "    </tr>\n",
       "  </thead>\n",
       "  <tbody>\n",
       "    <tr>\n",
       "      <th>0</th>\n",
       "      <td>59391</td>\n",
       "      <td>4.35</td>\n",
       "      <td>13.42</td>\n",
       "      <td>13.42</td>\n",
       "      <td>0.0</td>\n",
       "      <td>0.00</td>\n",
       "      <td>0.00</td>\n",
       "      <td>0.0</td>\n",
       "    </tr>\n",
       "    <tr>\n",
       "      <th>1</th>\n",
       "      <td>59318</td>\n",
       "      <td>5.07</td>\n",
       "      <td>16.60</td>\n",
       "      <td>16.60</td>\n",
       "      <td>0.0</td>\n",
       "      <td>0.00</td>\n",
       "      <td>0.00</td>\n",
       "      <td>0.0</td>\n",
       "    </tr>\n",
       "    <tr>\n",
       "      <th>2</th>\n",
       "      <td>59395</td>\n",
       "      <td>5.04</td>\n",
       "      <td>17.71</td>\n",
       "      <td>0.00</td>\n",
       "      <td>6.0</td>\n",
       "      <td>4.71</td>\n",
       "      <td>4.00</td>\n",
       "      <td>3.0</td>\n",
       "    </tr>\n",
       "    <tr>\n",
       "      <th>3</th>\n",
       "      <td>59397</td>\n",
       "      <td>1.00</td>\n",
       "      <td>9.00</td>\n",
       "      <td>0.00</td>\n",
       "      <td>6.0</td>\n",
       "      <td>0.00</td>\n",
       "      <td>0.00</td>\n",
       "      <td>3.0</td>\n",
       "    </tr>\n",
       "    <tr>\n",
       "      <th>4</th>\n",
       "      <td>59403</td>\n",
       "      <td>1.69</td>\n",
       "      <td>10.00</td>\n",
       "      <td>6.00</td>\n",
       "      <td>0.0</td>\n",
       "      <td>0.00</td>\n",
       "      <td>4.00</td>\n",
       "      <td>0.0</td>\n",
       "    </tr>\n",
       "    <tr>\n",
       "      <th>...</th>\n",
       "      <td>...</td>\n",
       "      <td>...</td>\n",
       "      <td>...</td>\n",
       "      <td>...</td>\n",
       "      <td>...</td>\n",
       "      <td>...</td>\n",
       "      <td>...</td>\n",
       "      <td>...</td>\n",
       "    </tr>\n",
       "    <tr>\n",
       "      <th>1279</th>\n",
       "      <td>62612</td>\n",
       "      <td>21.57</td>\n",
       "      <td>30.00</td>\n",
       "      <td>25.03</td>\n",
       "      <td>0.0</td>\n",
       "      <td>0.00</td>\n",
       "      <td>4.97</td>\n",
       "      <td>0.0</td>\n",
       "    </tr>\n",
       "    <tr>\n",
       "      <th>1280</th>\n",
       "      <td>62616</td>\n",
       "      <td>2.67</td>\n",
       "      <td>12.00</td>\n",
       "      <td>6.76</td>\n",
       "      <td>0.0</td>\n",
       "      <td>0.00</td>\n",
       "      <td>5.24</td>\n",
       "      <td>0.0</td>\n",
       "    </tr>\n",
       "    <tr>\n",
       "      <th>1281</th>\n",
       "      <td>62606</td>\n",
       "      <td>3.10</td>\n",
       "      <td>18.00</td>\n",
       "      <td>7.15</td>\n",
       "      <td>0.0</td>\n",
       "      <td>0.00</td>\n",
       "      <td>10.85</td>\n",
       "      <td>0.0</td>\n",
       "    </tr>\n",
       "    <tr>\n",
       "      <th>1282</th>\n",
       "      <td>62617</td>\n",
       "      <td>3.60</td>\n",
       "      <td>11.64</td>\n",
       "      <td>7.64</td>\n",
       "      <td>0.0</td>\n",
       "      <td>0.00</td>\n",
       "      <td>4.00</td>\n",
       "      <td>0.0</td>\n",
       "    </tr>\n",
       "    <tr>\n",
       "      <th>1283</th>\n",
       "      <td>62623</td>\n",
       "      <td>12.81</td>\n",
       "      <td>16.73</td>\n",
       "      <td>16.73</td>\n",
       "      <td>0.0</td>\n",
       "      <td>0.00</td>\n",
       "      <td>0.00</td>\n",
       "      <td>0.0</td>\n",
       "    </tr>\n",
       "  </tbody>\n",
       "</table>\n",
       "<p>1250 rows × 8 columns</p>\n",
       "</div>"
      ],
      "text/plain": [
       "     ORDER APPJUSTO  DISTANCE (KM)  TOTAL PAGO LALAMOVE  TAXA DE ENTREGA  \\\n",
       "0             59391           4.35                13.42            13.42   \n",
       "1             59318           5.07                16.60            16.60   \n",
       "2             59395           5.04                17.71             0.00   \n",
       "3             59397           1.00                 9.00             0.00   \n",
       "4             59403           1.69                10.00             6.00   \n",
       "...             ...            ...                  ...              ...   \n",
       "1279          62612          21.57                30.00            25.03   \n",
       "1280          62616           2.67                12.00             6.76   \n",
       "1281          62606           3.10                18.00             7.15   \n",
       "1282          62617           3.60                11.64             7.64   \n",
       "1283          62623          12.81                16.73            16.73   \n",
       "\n",
       "      PREÇO INICIAL  PREÇO KM EXTRA  TAXA DE PRIORIDADE  TAXA DE SOBRECARGA  \n",
       "0               0.0            0.00                0.00                 0.0  \n",
       "1               0.0            0.00                0.00                 0.0  \n",
       "2               6.0            4.71                4.00                 3.0  \n",
       "3               6.0            0.00                0.00                 3.0  \n",
       "4               0.0            0.00                4.00                 0.0  \n",
       "...             ...             ...                 ...                 ...  \n",
       "1279            0.0            0.00                4.97                 0.0  \n",
       "1280            0.0            0.00                5.24                 0.0  \n",
       "1281            0.0            0.00               10.85                 0.0  \n",
       "1282            0.0            0.00                4.00                 0.0  \n",
       "1283            0.0            0.00                0.00                 0.0  \n",
       "\n",
       "[1250 rows x 8 columns]"
      ]
     },
     "metadata": {},
     "output_type": "display_data"
    }
   ],
   "source": [
    "import pandas as pd\n",
    "\n",
    "# Carregando o arquivo CSV em um DataFrame e definindo a primeira linha após a exclusão das cinco primeiras como cabeçalho\n",
    "df = pd.read_csv('extrato-rede_parceira.csv', skiprows=5, header=0)\n",
    "\n",
    "\n",
    "# # Filtrar coluna TYPE para manter apenas valores iguais a ORDER\n",
    "df = df[df['TYPE'] == 'ORDER']\n",
    "\n",
    "# # Filtrar a coluna 'ORDER STATUS' para manter apenas 'COMPLETED'\n",
    "df = df[df['ORDER STATUS'] == 'COMPLETED']\n",
    "\n",
    "# # Excluir colunas não necessárias\n",
    "colunas_para_excluir = ['TYPE', 'ACTION', 'ORDER ID', 'ORDER STATUS', 'E-PAYMENT (+/-)', 'CASH (+/-)', 'STATEMENT TRANSACTIONS', 'FINAL AMOUNT', 'USER', 'USER ID', 'PICKUP DATE', 'CREATED', 'COMPLETED TIME', 'ORDER CITY', 'ADDRESSES', 'NUMBER OF STOPS', 'SPECIAL REQUEST ITEM', 'ORDER CONTACT', 'DRIVER ID', 'SPECIAL REQUEST', 'LARGE PACKAGE FEE', 'PREMIUM FEE', 'COUPON AMOUNT', 'SURCHARGE DISCOUNT', 'SAVER DISCOUNT', 'CS SUBSIDY', 'ADD ON FEE', 'MULTISTOP SURCHARGE', 'VEHICLE SPECIFICATION', 'CS ADJUSTMENT', 'REFUND', 'CANCELLATION FEE', 'CANCELLATION FEE REFUND', 'SERVICE TYPE', 'ORDER PATH', 'REFUND DATE']\n",
    "df = df.drop(columns=colunas_para_excluir)\n",
    "\n",
    "# Extrair o id da coluna 'ORDER REMARK' e criar a 'ORDER APPJUSTO'\n",
    "df['ORDER APPJUSTO'] = df['ORDER REMARK'].str.extract(r'#(\\d+)')\n",
    "\n",
    "# Excluir a coluna 'ORDER REMARK'\n",
    "df = df.drop(columns=['ORDER REMARK'])\n",
    "\n",
    "# Definir um dicionário de mapeamento de colunas antigas para colunas traduzidas\n",
    "novo_nome_das_colunas = {\n",
    "    'CREDITS (+/-)': 'TOTAL PAGO LALAMOVE',\n",
    "    'DELIVERY FEE': 'TAXA DE ENTREGA',\n",
    "    'STARTING PRICE': 'PREÇO INICIAL',\n",
    "    'EXTRA MILEAGE PRICE': 'PREÇO KM EXTRA',\n",
    "    'PRIORITY FEE': 'TAXA DE PRIORIDADE',\n",
    "    'SURCHARGE FEE': 'TAXA DE SOBRECARGA'\n",
    "}\n",
    "\n",
    "# Renomear as colunas usando o dicionário\n",
    "df.rename(columns=novo_nome_das_colunas, inplace=True)\n",
    "\n",
    "\n",
    "# Reordenar as colunas:\n",
    "colunas_ordem = ['ORDER APPJUSTO', 'DISTANCE (KM)', 'TOTAL PAGO LALAMOVE', 'TAXA DE ENTREGA', 'PREÇO INICIAL', 'PREÇO KM EXTRA', 'TAXA DE PRIORIDADE', 'TAXA DE SOBRECARGA']\n",
    "\n",
    "df = df[colunas_ordem]\n",
    "\n",
    "# Converte sinal para positivo para cálculo após junção com a tabela terceiriados-appjusto\n",
    "df['TOTAL PAGO LALAMOVE'] = -1 * df['TOTAL PAGO LALAMOVE']\n",
    "\n",
    "\n",
    "\n",
    "display(df)"
   ]
  },
  {
   "cell_type": "code",
   "execution_count": 6,
   "metadata": {},
   "outputs": [
    {
     "data": {
      "text/html": [
       "<div>\n",
       "<style scoped>\n",
       "    .dataframe tbody tr th:only-of-type {\n",
       "        vertical-align: middle;\n",
       "    }\n",
       "\n",
       "    .dataframe tbody tr th {\n",
       "        vertical-align: top;\n",
       "    }\n",
       "\n",
       "    .dataframe thead th {\n",
       "        text-align: right;\n",
       "    }\n",
       "</style>\n",
       "<table border=\"1\" class=\"dataframe\">\n",
       "  <thead>\n",
       "    <tr style=\"text-align: right;\">\n",
       "      <th></th>\n",
       "      <th>DATA</th>\n",
       "      <th>PEDIDO</th>\n",
       "      <th>VALOR PAGO CLIENTE</th>\n",
       "    </tr>\n",
       "  </thead>\n",
       "  <tbody>\n",
       "    <tr>\n",
       "      <th>0</th>\n",
       "      <td>1 de dez. de 2023</td>\n",
       "      <td>62623</td>\n",
       "      <td>25.86</td>\n",
       "    </tr>\n",
       "    <tr>\n",
       "      <th>1</th>\n",
       "      <td>1 de dez. de 2023</td>\n",
       "      <td>62617</td>\n",
       "      <td>10.47</td>\n",
       "    </tr>\n",
       "    <tr>\n",
       "      <th>2</th>\n",
       "      <td>1 de dez. de 2023</td>\n",
       "      <td>62616</td>\n",
       "      <td>10.47</td>\n",
       "    </tr>\n",
       "    <tr>\n",
       "      <th>3</th>\n",
       "      <td>1 de dez. de 2023</td>\n",
       "      <td>62612</td>\n",
       "      <td>46.25</td>\n",
       "    </tr>\n",
       "    <tr>\n",
       "      <th>4</th>\n",
       "      <td>1 de dez. de 2023</td>\n",
       "      <td>62609</td>\n",
       "      <td>10.33</td>\n",
       "    </tr>\n",
       "    <tr>\n",
       "      <th>...</th>\n",
       "      <td>...</td>\n",
       "      <td>...</td>\n",
       "      <td>...</td>\n",
       "    </tr>\n",
       "    <tr>\n",
       "      <th>1340</th>\n",
       "      <td>1 de nov. de 2023</td>\n",
       "      <td>59403</td>\n",
       "      <td>10.47</td>\n",
       "    </tr>\n",
       "    <tr>\n",
       "      <th>1341</th>\n",
       "      <td>1 de nov. de 2023</td>\n",
       "      <td>59401</td>\n",
       "      <td>15.95</td>\n",
       "    </tr>\n",
       "    <tr>\n",
       "      <th>1342</th>\n",
       "      <td>1 de nov. de 2023</td>\n",
       "      <td>59397</td>\n",
       "      <td>10.33</td>\n",
       "    </tr>\n",
       "    <tr>\n",
       "      <th>1343</th>\n",
       "      <td>1 de nov. de 2023</td>\n",
       "      <td>59395</td>\n",
       "      <td>16.23</td>\n",
       "    </tr>\n",
       "    <tr>\n",
       "      <th>1345</th>\n",
       "      <td>1 de nov. de 2023</td>\n",
       "      <td>59391</td>\n",
       "      <td>10.47</td>\n",
       "    </tr>\n",
       "  </tbody>\n",
       "</table>\n",
       "<p>1204 rows × 3 columns</p>\n",
       "</div>"
      ],
      "text/plain": [
       "                   DATA  PEDIDO  VALOR PAGO CLIENTE\n",
       "0     1 de dez. de 2023   62623               25.86\n",
       "1     1 de dez. de 2023   62617               10.47\n",
       "2     1 de dez. de 2023   62616               10.47\n",
       "3     1 de dez. de 2023   62612               46.25\n",
       "4     1 de dez. de 2023   62609               10.33\n",
       "...                 ...     ...                 ...\n",
       "1340  1 de nov. de 2023   59403               10.47\n",
       "1341  1 de nov. de 2023   59401               15.95\n",
       "1342  1 de nov. de 2023   59397               10.33\n",
       "1343  1 de nov. de 2023   59395               16.23\n",
       "1345  1 de nov. de 2023   59391               10.47\n",
       "\n",
       "[1204 rows x 3 columns]"
      ]
     },
     "metadata": {},
     "output_type": "display_data"
    }
   ],
   "source": [
    "# Carregando o segundo arquivo CSV em um DataFrame\n",
    "df2 = pd.read_csv('terceirizados.csv')\n",
    "\n",
    "# 1. Excluir valores igual a null na coluna 'TELEFONE' e suas linhas correspondentes\n",
    "df2 = df2[df2['TELEFONE'].notnull()]\n",
    "\n",
    "# # 2. Excluir as colunas 'NOME' e 'TELEFONE'\n",
    "colunas_para_excluir = ['NOME', 'TELEFONE']\n",
    "df2 = df2.drop(columns=colunas_para_excluir)\n",
    "\n",
    "display(df2)\n"
   ]
  },
  {
   "cell_type": "code",
   "execution_count": 7,
   "metadata": {},
   "outputs": [
    {
     "data": {
      "text/html": [
       "<div>\n",
       "<style scoped>\n",
       "    .dataframe tbody tr th:only-of-type {\n",
       "        vertical-align: middle;\n",
       "    }\n",
       "\n",
       "    .dataframe tbody tr th {\n",
       "        vertical-align: top;\n",
       "    }\n",
       "\n",
       "    .dataframe thead th {\n",
       "        text-align: right;\n",
       "    }\n",
       "</style>\n",
       "<table border=\"1\" class=\"dataframe\">\n",
       "  <thead>\n",
       "    <tr style=\"text-align: right;\">\n",
       "      <th></th>\n",
       "      <th>DATA</th>\n",
       "      <th>ORDER APPJUSTO</th>\n",
       "      <th>DISTANCE (KM)</th>\n",
       "      <th>TAXA DE ENTREGA</th>\n",
       "      <th>PREÇO INICIAL</th>\n",
       "      <th>PREÇO KM EXTRA</th>\n",
       "      <th>TAXA DE PRIORIDADE</th>\n",
       "      <th>TAXA DE SOBRECARGA</th>\n",
       "      <th>TOTAL PAGO LALAMOVE</th>\n",
       "      <th>VALOR PAGO CLIENTE</th>\n",
       "      <th>DIFERENÇA ENTRE VALORES</th>\n",
       "    </tr>\n",
       "  </thead>\n",
       "  <tbody>\n",
       "    <tr>\n",
       "      <th>0</th>\n",
       "      <td>1 de nov. de 2023</td>\n",
       "      <td>59391</td>\n",
       "      <td>4.35</td>\n",
       "      <td>13.42</td>\n",
       "      <td>0.0</td>\n",
       "      <td>0.00</td>\n",
       "      <td>0.00</td>\n",
       "      <td>0.0</td>\n",
       "      <td>13.42</td>\n",
       "      <td>10.47</td>\n",
       "      <td>R$ 2,95</td>\n",
       "    </tr>\n",
       "    <tr>\n",
       "      <th>1</th>\n",
       "      <td>1 de nov. de 2023</td>\n",
       "      <td>59395</td>\n",
       "      <td>5.04</td>\n",
       "      <td>0.00</td>\n",
       "      <td>6.0</td>\n",
       "      <td>4.71</td>\n",
       "      <td>4.00</td>\n",
       "      <td>3.0</td>\n",
       "      <td>17.71</td>\n",
       "      <td>16.23</td>\n",
       "      <td>R$ 1,48</td>\n",
       "    </tr>\n",
       "    <tr>\n",
       "      <th>2</th>\n",
       "      <td>1 de nov. de 2023</td>\n",
       "      <td>59397</td>\n",
       "      <td>1.00</td>\n",
       "      <td>0.00</td>\n",
       "      <td>6.0</td>\n",
       "      <td>0.00</td>\n",
       "      <td>0.00</td>\n",
       "      <td>3.0</td>\n",
       "      <td>9.00</td>\n",
       "      <td>10.33</td>\n",
       "      <td>R$ -1,33</td>\n",
       "    </tr>\n",
       "    <tr>\n",
       "      <th>3</th>\n",
       "      <td>1 de nov. de 2023</td>\n",
       "      <td>59403</td>\n",
       "      <td>1.69</td>\n",
       "      <td>6.00</td>\n",
       "      <td>0.0</td>\n",
       "      <td>0.00</td>\n",
       "      <td>4.00</td>\n",
       "      <td>0.0</td>\n",
       "      <td>10.00</td>\n",
       "      <td>10.47</td>\n",
       "      <td>R$ -0,47</td>\n",
       "    </tr>\n",
       "    <tr>\n",
       "      <th>4</th>\n",
       "      <td>1 de nov. de 2023</td>\n",
       "      <td>59401</td>\n",
       "      <td>6.63</td>\n",
       "      <td>18.20</td>\n",
       "      <td>0.0</td>\n",
       "      <td>0.00</td>\n",
       "      <td>0.00</td>\n",
       "      <td>0.0</td>\n",
       "      <td>18.20</td>\n",
       "      <td>15.95</td>\n",
       "      <td>R$ 2,25</td>\n",
       "    </tr>\n",
       "    <tr>\n",
       "      <th>...</th>\n",
       "      <td>...</td>\n",
       "      <td>...</td>\n",
       "      <td>...</td>\n",
       "      <td>...</td>\n",
       "      <td>...</td>\n",
       "      <td>...</td>\n",
       "      <td>...</td>\n",
       "      <td>...</td>\n",
       "      <td>...</td>\n",
       "      <td>...</td>\n",
       "      <td>...</td>\n",
       "    </tr>\n",
       "    <tr>\n",
       "      <th>1200</th>\n",
       "      <td>1 de dez. de 2023</td>\n",
       "      <td>62612</td>\n",
       "      <td>21.57</td>\n",
       "      <td>25.03</td>\n",
       "      <td>0.0</td>\n",
       "      <td>0.00</td>\n",
       "      <td>4.97</td>\n",
       "      <td>0.0</td>\n",
       "      <td>30.00</td>\n",
       "      <td>46.25</td>\n",
       "      <td>R$ -16,25</td>\n",
       "    </tr>\n",
       "    <tr>\n",
       "      <th>1201</th>\n",
       "      <td>1 de dez. de 2023</td>\n",
       "      <td>62616</td>\n",
       "      <td>2.67</td>\n",
       "      <td>6.76</td>\n",
       "      <td>0.0</td>\n",
       "      <td>0.00</td>\n",
       "      <td>5.24</td>\n",
       "      <td>0.0</td>\n",
       "      <td>12.00</td>\n",
       "      <td>10.47</td>\n",
       "      <td>R$ 1,53</td>\n",
       "    </tr>\n",
       "    <tr>\n",
       "      <th>1202</th>\n",
       "      <td>1 de dez. de 2023</td>\n",
       "      <td>62606</td>\n",
       "      <td>3.10</td>\n",
       "      <td>7.15</td>\n",
       "      <td>0.0</td>\n",
       "      <td>0.00</td>\n",
       "      <td>10.85</td>\n",
       "      <td>0.0</td>\n",
       "      <td>18.00</td>\n",
       "      <td>12.30</td>\n",
       "      <td>R$ 5,70</td>\n",
       "    </tr>\n",
       "    <tr>\n",
       "      <th>1203</th>\n",
       "      <td>1 de dez. de 2023</td>\n",
       "      <td>62617</td>\n",
       "      <td>3.60</td>\n",
       "      <td>7.64</td>\n",
       "      <td>0.0</td>\n",
       "      <td>0.00</td>\n",
       "      <td>4.00</td>\n",
       "      <td>0.0</td>\n",
       "      <td>11.64</td>\n",
       "      <td>10.47</td>\n",
       "      <td>R$ 1,17</td>\n",
       "    </tr>\n",
       "    <tr>\n",
       "      <th>1204</th>\n",
       "      <td>1 de dez. de 2023</td>\n",
       "      <td>62623</td>\n",
       "      <td>12.81</td>\n",
       "      <td>16.73</td>\n",
       "      <td>0.0</td>\n",
       "      <td>0.00</td>\n",
       "      <td>0.00</td>\n",
       "      <td>0.0</td>\n",
       "      <td>16.73</td>\n",
       "      <td>25.86</td>\n",
       "      <td>R$ -9,13</td>\n",
       "    </tr>\n",
       "  </tbody>\n",
       "</table>\n",
       "<p>1205 rows × 11 columns</p>\n",
       "</div>"
      ],
      "text/plain": [
       "                   DATA  ORDER APPJUSTO  DISTANCE (KM)  TAXA DE ENTREGA  \\\n",
       "0     1 de nov. de 2023           59391           4.35            13.42   \n",
       "1     1 de nov. de 2023           59395           5.04             0.00   \n",
       "2     1 de nov. de 2023           59397           1.00             0.00   \n",
       "3     1 de nov. de 2023           59403           1.69             6.00   \n",
       "4     1 de nov. de 2023           59401           6.63            18.20   \n",
       "...                 ...             ...            ...              ...   \n",
       "1200  1 de dez. de 2023           62612          21.57            25.03   \n",
       "1201  1 de dez. de 2023           62616           2.67             6.76   \n",
       "1202  1 de dez. de 2023           62606           3.10             7.15   \n",
       "1203  1 de dez. de 2023           62617           3.60             7.64   \n",
       "1204  1 de dez. de 2023           62623          12.81            16.73   \n",
       "\n",
       "      PREÇO INICIAL  PREÇO KM EXTRA  TAXA DE PRIORIDADE  TAXA DE SOBRECARGA  \\\n",
       "0               0.0            0.00                0.00                 0.0   \n",
       "1               6.0            4.71                4.00                 3.0   \n",
       "2               6.0            0.00                0.00                 3.0   \n",
       "3               0.0            0.00                4.00                 0.0   \n",
       "4               0.0            0.00                0.00                 0.0   \n",
       "...             ...             ...                 ...                 ...   \n",
       "1200            0.0            0.00                4.97                 0.0   \n",
       "1201            0.0            0.00                5.24                 0.0   \n",
       "1202            0.0            0.00               10.85                 0.0   \n",
       "1203            0.0            0.00                4.00                 0.0   \n",
       "1204            0.0            0.00                0.00                 0.0   \n",
       "\n",
       "      TOTAL PAGO LALAMOVE  VALOR PAGO CLIENTE DIFERENÇA ENTRE VALORES  \n",
       "0                   13.42               10.47                 R$ 2,95  \n",
       "1                   17.71               16.23                 R$ 1,48  \n",
       "2                    9.00               10.33                R$ -1,33  \n",
       "3                   10.00               10.47                R$ -0,47  \n",
       "4                   18.20               15.95                 R$ 2,25  \n",
       "...                   ...                 ...                     ...  \n",
       "1200                30.00               46.25               R$ -16,25  \n",
       "1201                12.00               10.47                 R$ 1,53  \n",
       "1202                18.00               12.30                 R$ 5,70  \n",
       "1203                11.64               10.47                 R$ 1,17  \n",
       "1204                16.73               25.86                R$ -9,13  \n",
       "\n",
       "[1205 rows x 11 columns]"
      ]
     },
     "metadata": {},
     "output_type": "display_data"
    }
   ],
   "source": [
    "# Exclua as linhas que contêm NaN na coluna 'ORDER APPJUSTO'\n",
    "df = df.dropna(subset=['ORDER APPJUSTO'])\n",
    "\n",
    "# # Converta 'ORDER APPJUSTO' para o tipo int\n",
    "df['ORDER APPJUSTO'] = df['ORDER APPJUSTO'].astype(int)\n",
    "\n",
    "# # Converta 'PEDIDO' para o tipo int\n",
    "df2['PEDIDO'] = df2['PEDIDO'].astype(int)\n",
    "\n",
    "# # Realize a mesclagem dos DataFrames com base nas colunas 'ORDER APPJUSTO' e 'PEDIDO'\n",
    "resultado = df.merge(df2, left_on='ORDER APPJUSTO', right_on='PEDIDO', how='inner')\n",
    "\n",
    "# # Calcula a diferença entre as colunas 'TOTAL PAGO LALAMOVE' e 'VALOR PAGO CLIENTE'\n",
    "resultado['DIFERENÇA ENTRE VALORES'] = resultado['TOTAL PAGO LALAMOVE'] - resultado['VALOR PAGO CLIENTE']\n",
    "\n",
    "# # Arredonda os valores para duas casas decimais e formata\n",
    "resultado['DIFERENÇA ENTRE VALORES'] = resultado['DIFERENÇA ENTRE VALORES'].apply(lambda x: round(x, 2))\n",
    "resultado['DIFERENÇA ENTRE VALORES'] = resultado['DIFERENÇA ENTRE VALORES'].apply(lambda x: f\"R$ {x:.2f}\".replace('.', ','))\n",
    "\n",
    "# Exlui colunas desnecessárias\n",
    "col_para_excluir = ['PEDIDO']\n",
    "resultado = resultado.drop(columns=col_para_excluir)\n",
    "\n",
    "col_ordem = ['DATA', 'ORDER APPJUSTO', 'DISTANCE (KM)', 'TAXA DE ENTREGA', 'PREÇO INICIAL', 'PREÇO KM EXTRA', 'TAXA DE PRIORIDADE', 'TAXA DE SOBRECARGA', 'TOTAL PAGO LALAMOVE', 'VALOR PAGO CLIENTE', 'DIFERENÇA ENTRE VALORES']\n",
    "\n",
    "resultado = resultado[col_ordem]\n",
    "\n",
    "# Salva o DataFrame em um arquivo CSV\n",
    "resultado.to_csv('resultado.csv', index=False)\n",
    "\n",
    "display(resultado)"
   ]
  },
  {
   "cell_type": "code",
   "execution_count": 22,
   "metadata": {},
   "outputs": [
    {
     "data": {
      "application/vnd.plotly.v1+json": {
       "config": {
        "plotlyServerURL": "https://plot.ly"
       },
       "data": [
        {
         "marker": {
          "color": "rgb(108, 232, 134)"
         },
         "name": "Valor Pago Cliente",
         "text": [
          "R$ 162,97",
          "R$ 314,50",
          "R$ 485,05",
          "R$ 802,81",
          "R$ 971,50",
          "R$ 467,11",
          "R$ 529,36",
          "R$ 580,49",
          "R$ 951,19",
          "R$ 517,45",
          "R$ 686,67",
          "R$ 826,07",
          "R$ 324,83",
          "R$ 431,80",
          "R$ 318,33",
          "R$ 397,75",
          "R$ 384,43",
          "R$ 763,21",
          "R$ 900,09",
          "R$ 777,17",
          "R$ 449,65",
          "R$ 323,87",
          "R$ 415,21",
          "R$ 476,68",
          "R$ 635,20",
          "R$ 678,60",
          "R$ 679,13",
          "R$ 289,78",
          "R$ 207,47",
          "R$ 250,03",
          "R$ 315,53"
         ],
         "type": "bar",
         "x": [
          "1 de dez. de 2023",
          "1 de nov. de 2023",
          "10 de nov. de 2023",
          "11 de nov. de 2023",
          "12 de nov. de 2023",
          "13 de nov. de 2023",
          "14 de nov. de 2023",
          "15 de nov. de 2023",
          "16 de nov. de 2023",
          "17 de nov. de 2023",
          "18 de nov. de 2023",
          "19 de nov. de 2023",
          "2 de nov. de 2023",
          "20 de nov. de 2023",
          "21 de nov. de 2023",
          "22 de nov. de 2023",
          "23 de nov. de 2023",
          "24 de nov. de 2023",
          "25 de nov. de 2023",
          "26 de nov. de 2023",
          "27 de nov. de 2023",
          "28 de nov. de 2023",
          "29 de nov. de 2023",
          "3 de nov. de 2023",
          "30 de nov. de 2023",
          "4 de nov. de 2023",
          "5 de nov. de 2023",
          "6 de nov. de 2023",
          "7 de nov. de 2023",
          "8 de nov. de 2023",
          "9 de nov. de 2023"
         ],
         "y": [
          162.97,
          314.5,
          485.05,
          802.8100000000001,
          971.5,
          467.11,
          529.36,
          580.49,
          951.19,
          517.45,
          686.67,
          826.07,
          324.83,
          431.8,
          318.33,
          397.75,
          384.43,
          763.21,
          900.09,
          777.17,
          449.65,
          323.87,
          415.21000000000004,
          476.68,
          635.2,
          678.6,
          679.13,
          289.78000000000003,
          207.47,
          250.03,
          315.53000000000003
         ]
        },
        {
         "marker": {
          "color": "rgb(255, 103, 29)"
         },
         "name": "Total Pago LALAMOVE",
         "text": [
          "R$ 148,40",
          "R$ 317,56",
          "R$ 489,45",
          "R$ 877,58",
          "R$ 1090,58",
          "R$ 491,81",
          "R$ 634,30",
          "R$ 717,66",
          "R$ 1369,45",
          "R$ 560,81",
          "R$ 799,52",
          "R$ 1134,61",
          "R$ 301,91",
          "R$ 544,72",
          "R$ 364,43",
          "R$ 399,28",
          "R$ 462,11",
          "R$ 886,90",
          "R$ 1130,40",
          "R$ 902,44",
          "R$ 520,28",
          "R$ 379,70",
          "R$ 504,08",
          "R$ 555,75",
          "R$ 721,41",
          "R$ 638,19",
          "R$ 705,57",
          "R$ 335,24",
          "R$ 207,72",
          "R$ 239,62",
          "R$ 316,91"
         ],
         "type": "bar",
         "x": [
          "1 de dez. de 2023",
          "1 de nov. de 2023",
          "10 de nov. de 2023",
          "11 de nov. de 2023",
          "12 de nov. de 2023",
          "13 de nov. de 2023",
          "14 de nov. de 2023",
          "15 de nov. de 2023",
          "16 de nov. de 2023",
          "17 de nov. de 2023",
          "18 de nov. de 2023",
          "19 de nov. de 2023",
          "2 de nov. de 2023",
          "20 de nov. de 2023",
          "21 de nov. de 2023",
          "22 de nov. de 2023",
          "23 de nov. de 2023",
          "24 de nov. de 2023",
          "25 de nov. de 2023",
          "26 de nov. de 2023",
          "27 de nov. de 2023",
          "28 de nov. de 2023",
          "29 de nov. de 2023",
          "3 de nov. de 2023",
          "30 de nov. de 2023",
          "4 de nov. de 2023",
          "5 de nov. de 2023",
          "6 de nov. de 2023",
          "7 de nov. de 2023",
          "8 de nov. de 2023",
          "9 de nov. de 2023"
         ],
         "y": [
          148.4,
          317.56,
          489.45,
          877.58,
          1090.58,
          491.81,
          634.3,
          717.66,
          1369.45,
          560.81,
          799.52,
          1134.61,
          301.90999999999997,
          544.72,
          364.43,
          399.28000000000003,
          462.11,
          886.9,
          1130.4,
          902.44,
          520.28,
          379.7,
          504.08,
          555.75,
          721.41,
          638.19,
          705.57,
          335.24,
          207.72,
          239.62,
          316.91
         ]
        }
       ],
       "layout": {
        "annotations": [
         {
          "arrowcolor": "red",
          "arrowhead": 2,
          "arrowsize": 1,
          "arrowwidth": 2,
          "font": {
           "color": "black",
           "size": 12
          },
          "showarrow": true,
          "text": "Diferença: R$ 418,26",
          "x": "16 de nov. de 2023",
          "y": 418.26,
          "yshift": 100
         },
         {
          "arrowcolor": "red",
          "arrowhead": 2,
          "arrowsize": 1,
          "arrowwidth": 2,
          "font": {
           "color": "black",
           "size": 12
          },
          "showarrow": true,
          "text": "Diferença: R$ 308,54",
          "x": "19 de nov. de 2023",
          "y": 308.53999999999985,
          "yshift": 80
         },
         {
          "arrowcolor": "red",
          "arrowhead": 2,
          "arrowsize": 1,
          "arrowwidth": 2,
          "font": {
           "color": "black",
           "size": 12
          },
          "showarrow": true,
          "text": "Diferença: R$ 230,31",
          "x": "25 de nov. de 2023",
          "y": 230.31000000000006,
          "yshift": 90
         },
         {
          "font": {
           "size": 12
          },
          "showarrow": false,
          "text": "Soma KM Extra: R$ 704,54<br>Soma Prioridade: R$ 4961,90<br>Soma Sobrecarga: R$ 654,03<br>Soma 3 Anteriores: R$ 6320,47<br>Soma Total Pago LALAMOVE: R$ 18748,39<br>Soma Valor Pago Cliente: R$ 16313,93",
          "x": 1,
          "xref": "paper",
          "y": 1.05,
          "yref": "paper"
         }
        ],
        "legend": {
         "title": {
          "text": "Legenda"
         }
        },
        "template": {
         "data": {
          "bar": [
           {
            "error_x": {
             "color": "#2a3f5f"
            },
            "error_y": {
             "color": "#2a3f5f"
            },
            "marker": {
             "line": {
              "color": "#E5ECF6",
              "width": 0.5
             },
             "pattern": {
              "fillmode": "overlay",
              "size": 10,
              "solidity": 0.2
             }
            },
            "type": "bar"
           }
          ],
          "barpolar": [
           {
            "marker": {
             "line": {
              "color": "#E5ECF6",
              "width": 0.5
             },
             "pattern": {
              "fillmode": "overlay",
              "size": 10,
              "solidity": 0.2
             }
            },
            "type": "barpolar"
           }
          ],
          "carpet": [
           {
            "aaxis": {
             "endlinecolor": "#2a3f5f",
             "gridcolor": "white",
             "linecolor": "white",
             "minorgridcolor": "white",
             "startlinecolor": "#2a3f5f"
            },
            "baxis": {
             "endlinecolor": "#2a3f5f",
             "gridcolor": "white",
             "linecolor": "white",
             "minorgridcolor": "white",
             "startlinecolor": "#2a3f5f"
            },
            "type": "carpet"
           }
          ],
          "choropleth": [
           {
            "colorbar": {
             "outlinewidth": 0,
             "ticks": ""
            },
            "type": "choropleth"
           }
          ],
          "contour": [
           {
            "colorbar": {
             "outlinewidth": 0,
             "ticks": ""
            },
            "colorscale": [
             [
              0,
              "#0d0887"
             ],
             [
              0.1111111111111111,
              "#46039f"
             ],
             [
              0.2222222222222222,
              "#7201a8"
             ],
             [
              0.3333333333333333,
              "#9c179e"
             ],
             [
              0.4444444444444444,
              "#bd3786"
             ],
             [
              0.5555555555555556,
              "#d8576b"
             ],
             [
              0.6666666666666666,
              "#ed7953"
             ],
             [
              0.7777777777777778,
              "#fb9f3a"
             ],
             [
              0.8888888888888888,
              "#fdca26"
             ],
             [
              1,
              "#f0f921"
             ]
            ],
            "type": "contour"
           }
          ],
          "contourcarpet": [
           {
            "colorbar": {
             "outlinewidth": 0,
             "ticks": ""
            },
            "type": "contourcarpet"
           }
          ],
          "heatmap": [
           {
            "colorbar": {
             "outlinewidth": 0,
             "ticks": ""
            },
            "colorscale": [
             [
              0,
              "#0d0887"
             ],
             [
              0.1111111111111111,
              "#46039f"
             ],
             [
              0.2222222222222222,
              "#7201a8"
             ],
             [
              0.3333333333333333,
              "#9c179e"
             ],
             [
              0.4444444444444444,
              "#bd3786"
             ],
             [
              0.5555555555555556,
              "#d8576b"
             ],
             [
              0.6666666666666666,
              "#ed7953"
             ],
             [
              0.7777777777777778,
              "#fb9f3a"
             ],
             [
              0.8888888888888888,
              "#fdca26"
             ],
             [
              1,
              "#f0f921"
             ]
            ],
            "type": "heatmap"
           }
          ],
          "heatmapgl": [
           {
            "colorbar": {
             "outlinewidth": 0,
             "ticks": ""
            },
            "colorscale": [
             [
              0,
              "#0d0887"
             ],
             [
              0.1111111111111111,
              "#46039f"
             ],
             [
              0.2222222222222222,
              "#7201a8"
             ],
             [
              0.3333333333333333,
              "#9c179e"
             ],
             [
              0.4444444444444444,
              "#bd3786"
             ],
             [
              0.5555555555555556,
              "#d8576b"
             ],
             [
              0.6666666666666666,
              "#ed7953"
             ],
             [
              0.7777777777777778,
              "#fb9f3a"
             ],
             [
              0.8888888888888888,
              "#fdca26"
             ],
             [
              1,
              "#f0f921"
             ]
            ],
            "type": "heatmapgl"
           }
          ],
          "histogram": [
           {
            "marker": {
             "pattern": {
              "fillmode": "overlay",
              "size": 10,
              "solidity": 0.2
             }
            },
            "type": "histogram"
           }
          ],
          "histogram2d": [
           {
            "colorbar": {
             "outlinewidth": 0,
             "ticks": ""
            },
            "colorscale": [
             [
              0,
              "#0d0887"
             ],
             [
              0.1111111111111111,
              "#46039f"
             ],
             [
              0.2222222222222222,
              "#7201a8"
             ],
             [
              0.3333333333333333,
              "#9c179e"
             ],
             [
              0.4444444444444444,
              "#bd3786"
             ],
             [
              0.5555555555555556,
              "#d8576b"
             ],
             [
              0.6666666666666666,
              "#ed7953"
             ],
             [
              0.7777777777777778,
              "#fb9f3a"
             ],
             [
              0.8888888888888888,
              "#fdca26"
             ],
             [
              1,
              "#f0f921"
             ]
            ],
            "type": "histogram2d"
           }
          ],
          "histogram2dcontour": [
           {
            "colorbar": {
             "outlinewidth": 0,
             "ticks": ""
            },
            "colorscale": [
             [
              0,
              "#0d0887"
             ],
             [
              0.1111111111111111,
              "#46039f"
             ],
             [
              0.2222222222222222,
              "#7201a8"
             ],
             [
              0.3333333333333333,
              "#9c179e"
             ],
             [
              0.4444444444444444,
              "#bd3786"
             ],
             [
              0.5555555555555556,
              "#d8576b"
             ],
             [
              0.6666666666666666,
              "#ed7953"
             ],
             [
              0.7777777777777778,
              "#fb9f3a"
             ],
             [
              0.8888888888888888,
              "#fdca26"
             ],
             [
              1,
              "#f0f921"
             ]
            ],
            "type": "histogram2dcontour"
           }
          ],
          "mesh3d": [
           {
            "colorbar": {
             "outlinewidth": 0,
             "ticks": ""
            },
            "type": "mesh3d"
           }
          ],
          "parcoords": [
           {
            "line": {
             "colorbar": {
              "outlinewidth": 0,
              "ticks": ""
             }
            },
            "type": "parcoords"
           }
          ],
          "pie": [
           {
            "automargin": true,
            "type": "pie"
           }
          ],
          "scatter": [
           {
            "fillpattern": {
             "fillmode": "overlay",
             "size": 10,
             "solidity": 0.2
            },
            "type": "scatter"
           }
          ],
          "scatter3d": [
           {
            "line": {
             "colorbar": {
              "outlinewidth": 0,
              "ticks": ""
             }
            },
            "marker": {
             "colorbar": {
              "outlinewidth": 0,
              "ticks": ""
             }
            },
            "type": "scatter3d"
           }
          ],
          "scattercarpet": [
           {
            "marker": {
             "colorbar": {
              "outlinewidth": 0,
              "ticks": ""
             }
            },
            "type": "scattercarpet"
           }
          ],
          "scattergeo": [
           {
            "marker": {
             "colorbar": {
              "outlinewidth": 0,
              "ticks": ""
             }
            },
            "type": "scattergeo"
           }
          ],
          "scattergl": [
           {
            "marker": {
             "colorbar": {
              "outlinewidth": 0,
              "ticks": ""
             }
            },
            "type": "scattergl"
           }
          ],
          "scattermapbox": [
           {
            "marker": {
             "colorbar": {
              "outlinewidth": 0,
              "ticks": ""
             }
            },
            "type": "scattermapbox"
           }
          ],
          "scatterpolar": [
           {
            "marker": {
             "colorbar": {
              "outlinewidth": 0,
              "ticks": ""
             }
            },
            "type": "scatterpolar"
           }
          ],
          "scatterpolargl": [
           {
            "marker": {
             "colorbar": {
              "outlinewidth": 0,
              "ticks": ""
             }
            },
            "type": "scatterpolargl"
           }
          ],
          "scatterternary": [
           {
            "marker": {
             "colorbar": {
              "outlinewidth": 0,
              "ticks": ""
             }
            },
            "type": "scatterternary"
           }
          ],
          "surface": [
           {
            "colorbar": {
             "outlinewidth": 0,
             "ticks": ""
            },
            "colorscale": [
             [
              0,
              "#0d0887"
             ],
             [
              0.1111111111111111,
              "#46039f"
             ],
             [
              0.2222222222222222,
              "#7201a8"
             ],
             [
              0.3333333333333333,
              "#9c179e"
             ],
             [
              0.4444444444444444,
              "#bd3786"
             ],
             [
              0.5555555555555556,
              "#d8576b"
             ],
             [
              0.6666666666666666,
              "#ed7953"
             ],
             [
              0.7777777777777778,
              "#fb9f3a"
             ],
             [
              0.8888888888888888,
              "#fdca26"
             ],
             [
              1,
              "#f0f921"
             ]
            ],
            "type": "surface"
           }
          ],
          "table": [
           {
            "cells": {
             "fill": {
              "color": "#EBF0F8"
             },
             "line": {
              "color": "white"
             }
            },
            "header": {
             "fill": {
              "color": "#C8D4E3"
             },
             "line": {
              "color": "white"
             }
            },
            "type": "table"
           }
          ]
         },
         "layout": {
          "annotationdefaults": {
           "arrowcolor": "#2a3f5f",
           "arrowhead": 0,
           "arrowwidth": 1
          },
          "autotypenumbers": "strict",
          "coloraxis": {
           "colorbar": {
            "outlinewidth": 0,
            "ticks": ""
           }
          },
          "colorscale": {
           "diverging": [
            [
             0,
             "#8e0152"
            ],
            [
             0.1,
             "#c51b7d"
            ],
            [
             0.2,
             "#de77ae"
            ],
            [
             0.3,
             "#f1b6da"
            ],
            [
             0.4,
             "#fde0ef"
            ],
            [
             0.5,
             "#f7f7f7"
            ],
            [
             0.6,
             "#e6f5d0"
            ],
            [
             0.7,
             "#b8e186"
            ],
            [
             0.8,
             "#7fbc41"
            ],
            [
             0.9,
             "#4d9221"
            ],
            [
             1,
             "#276419"
            ]
           ],
           "sequential": [
            [
             0,
             "#0d0887"
            ],
            [
             0.1111111111111111,
             "#46039f"
            ],
            [
             0.2222222222222222,
             "#7201a8"
            ],
            [
             0.3333333333333333,
             "#9c179e"
            ],
            [
             0.4444444444444444,
             "#bd3786"
            ],
            [
             0.5555555555555556,
             "#d8576b"
            ],
            [
             0.6666666666666666,
             "#ed7953"
            ],
            [
             0.7777777777777778,
             "#fb9f3a"
            ],
            [
             0.8888888888888888,
             "#fdca26"
            ],
            [
             1,
             "#f0f921"
            ]
           ],
           "sequentialminus": [
            [
             0,
             "#0d0887"
            ],
            [
             0.1111111111111111,
             "#46039f"
            ],
            [
             0.2222222222222222,
             "#7201a8"
            ],
            [
             0.3333333333333333,
             "#9c179e"
            ],
            [
             0.4444444444444444,
             "#bd3786"
            ],
            [
             0.5555555555555556,
             "#d8576b"
            ],
            [
             0.6666666666666666,
             "#ed7953"
            ],
            [
             0.7777777777777778,
             "#fb9f3a"
            ],
            [
             0.8888888888888888,
             "#fdca26"
            ],
            [
             1,
             "#f0f921"
            ]
           ]
          },
          "colorway": [
           "#636efa",
           "#EF553B",
           "#00cc96",
           "#ab63fa",
           "#FFA15A",
           "#19d3f3",
           "#FF6692",
           "#B6E880",
           "#FF97FF",
           "#FECB52"
          ],
          "font": {
           "color": "#2a3f5f"
          },
          "geo": {
           "bgcolor": "white",
           "lakecolor": "white",
           "landcolor": "#E5ECF6",
           "showlakes": true,
           "showland": true,
           "subunitcolor": "white"
          },
          "hoverlabel": {
           "align": "left"
          },
          "hovermode": "closest",
          "mapbox": {
           "style": "light"
          },
          "paper_bgcolor": "white",
          "plot_bgcolor": "#E5ECF6",
          "polar": {
           "angularaxis": {
            "gridcolor": "white",
            "linecolor": "white",
            "ticks": ""
           },
           "bgcolor": "#E5ECF6",
           "radialaxis": {
            "gridcolor": "white",
            "linecolor": "white",
            "ticks": ""
           }
          },
          "scene": {
           "xaxis": {
            "backgroundcolor": "#E5ECF6",
            "gridcolor": "white",
            "gridwidth": 2,
            "linecolor": "white",
            "showbackground": true,
            "ticks": "",
            "zerolinecolor": "white"
           },
           "yaxis": {
            "backgroundcolor": "#E5ECF6",
            "gridcolor": "white",
            "gridwidth": 2,
            "linecolor": "white",
            "showbackground": true,
            "ticks": "",
            "zerolinecolor": "white"
           },
           "zaxis": {
            "backgroundcolor": "#E5ECF6",
            "gridcolor": "white",
            "gridwidth": 2,
            "linecolor": "white",
            "showbackground": true,
            "ticks": "",
            "zerolinecolor": "white"
           }
          },
          "shapedefaults": {
           "line": {
            "color": "#2a3f5f"
           }
          },
          "ternary": {
           "aaxis": {
            "gridcolor": "white",
            "linecolor": "white",
            "ticks": ""
           },
           "baxis": {
            "gridcolor": "white",
            "linecolor": "white",
            "ticks": ""
           },
           "bgcolor": "#E5ECF6",
           "caxis": {
            "gridcolor": "white",
            "linecolor": "white",
            "ticks": ""
           }
          },
          "title": {
           "x": 0.05
          },
          "xaxis": {
           "automargin": true,
           "gridcolor": "white",
           "linecolor": "white",
           "ticks": "",
           "title": {
            "standoff": 15
           },
           "zerolinecolor": "white",
           "zerolinewidth": 2
          },
          "yaxis": {
           "automargin": true,
           "gridcolor": "white",
           "linecolor": "white",
           "ticks": "",
           "title": {
            "standoff": 15
           },
           "zerolinecolor": "white",
           "zerolinewidth": 2
          }
         }
        },
        "title": {
         "text": "Valores por Data - Soma da Diferença: R$ -2434,46 (Valor que gastamos a mais do que recebemos)"
        },
        "xaxis": {
         "categoryarray": [
          "1 de dez. de 2023",
          "1 de nov. de 2023",
          "10 de nov. de 2023",
          "11 de nov. de 2023",
          "12 de nov. de 2023",
          "13 de nov. de 2023",
          "14 de nov. de 2023",
          "15 de nov. de 2023",
          "16 de nov. de 2023",
          "17 de nov. de 2023",
          "18 de nov. de 2023",
          "19 de nov. de 2023",
          "2 de nov. de 2023",
          "20 de nov. de 2023",
          "21 de nov. de 2023",
          "22 de nov. de 2023",
          "23 de nov. de 2023",
          "24 de nov. de 2023",
          "25 de nov. de 2023",
          "26 de nov. de 2023",
          "27 de nov. de 2023",
          "28 de nov. de 2023",
          "29 de nov. de 2023",
          "3 de nov. de 2023",
          "30 de nov. de 2023",
          "4 de nov. de 2023",
          "5 de nov. de 2023",
          "6 de nov. de 2023",
          "7 de nov. de 2023",
          "8 de nov. de 2023",
          "9 de nov. de 2023"
         ],
         "categoryorder": "array",
         "tickangle": 45,
         "title": {
          "text": "Data"
         }
        },
        "yaxis": {
         "title": {
          "text": "Valores"
         }
        }
       }
      }
     },
     "metadata": {},
     "output_type": "display_data"
    }
   ],
   "source": [
    "import pandas as pd\n",
    "import plotly.graph_objects as go\n",
    "\n",
    "# Carregando os dados\n",
    "resultado = pd.read_csv('resultado.csv')\n",
    "\n",
    "# Agrupando os dados\n",
    "dados_agrupados = resultado.groupby('DATA')[['VALOR PAGO CLIENTE', 'TOTAL PAGO LALAMOVE']].sum().reset_index()\n",
    "\n",
    "# Calculando a diferença entre 'Total Pago LALAMOVE' e 'Valor Pago Cliente'\n",
    "dados_agrupados['Diferença entre valores'] = dados_agrupados['TOTAL PAGO LALAMOVE'] - dados_agrupados['VALOR PAGO CLIENTE']\n",
    "\n",
    "# Encontrar os top 3 dias com as maiores diferenças\n",
    "top_dias = dados_agrupados.nlargest(3, 'Diferença entre valores')\n",
    "\n",
    "# Alturas individuais para as anotações (ajuste o valor de y para mover as anotações para cima)\n",
    "alturas = [100, 80, 90]\n",
    "\n",
    "# Calculando as somas\n",
    "soma_km_extra = resultado['PREÇO KM EXTRA'].sum()\n",
    "soma_prioridade = resultado['TAXA DE PRIORIDADE'].sum()\n",
    "soma_sobrecarga = resultado['TAXA DE SOBRECARGA'].sum()\n",
    "soma_tres_anteriores = soma_km_extra + soma_prioridade + soma_sobrecarga\n",
    "soma_total_lalamove = resultado['TOTAL PAGO LALAMOVE'].sum()\n",
    "soma_total_cliente = resultado['VALOR PAGO CLIENTE'].sum()\n",
    "\n",
    "# Calculando a soma da diferença\n",
    "soma_diferenca = dados_agrupados['Diferença entre valores'].sum()\n",
    "\n",
    "# Criando um gráfico de barras interativo com Plotly\n",
    "fig = go.Figure()\n",
    "\n",
    "# Formatação dos valores para BRL\n",
    "formatar_para_BRL = lambda x: f'R$ {x:.2f}'.replace('.', ',')\n",
    "\n",
    "fig.add_trace(go.Bar(x=dados_agrupados['DATA'], y=dados_agrupados['VALOR PAGO CLIENTE'], \n",
    "                     text=dados_agrupados['VALOR PAGO CLIENTE'].apply(formatar_para_BRL),\n",
    "                     name='Valor Pago Cliente',\n",
    "                     marker_color='rgb(108, 232, 134)'))\n",
    "\n",
    "fig.add_trace(go.Bar(x=dados_agrupados['DATA'], y=dados_agrupados['TOTAL PAGO LALAMOVE'], \n",
    "                     text=dados_agrupados['TOTAL PAGO LALAMOVE'].apply(formatar_para_BRL),\n",
    "                     name='Total Pago LALAMOVE',\n",
    "                     marker_color='rgb(255, 103, 29)'))\n",
    "\n",
    "# Adicionar setas para indicar as barras com as maiores diferenças\n",
    "for row, altura in zip(top_dias.itertuples(), alturas):\n",
    "    fig.add_annotation(\n",
    "        text=f'Diferença: {formatar_para_BRL(row._4)}',  # Usamos row._4 para acessar a coluna 'Diferença entre valores'\n",
    "        x=row.DATA,\n",
    "        y=row._4,\n",
    "        showarrow=True,\n",
    "        arrowhead=2,\n",
    "        arrowsize=1,\n",
    "        arrowwidth=2,\n",
    "        arrowcolor='red',\n",
    "        font=dict(size=12, color='black'),\n",
    "        yshift=altura  # Altura individual para cada anotação\n",
    "    )\n",
    "\n",
    "# Personalização do layout\n",
    "fig.update_xaxes(categoryorder='array', categoryarray=dados_agrupados['DATA'])\n",
    "fig.update_xaxes(tickangle=45)\n",
    "fig.update_layout(xaxis_title='Data', yaxis_title='Valores', legend_title='Legenda')\n",
    "\n",
    "# Exibir as somas no topo do gráfico\n",
    "text = f'Soma KM Extra: {formatar_para_BRL(soma_km_extra)}<br>'\n",
    "text += f'Soma Prioridade: {formatar_para_BRL(soma_prioridade)}<br>'\n",
    "text += f'Soma Sobrecarga: {formatar_para_BRL(soma_sobrecarga)}<br>'\n",
    "text += f'Soma 3 Anteriores: {formatar_para_BRL(soma_tres_anteriores)}<br>'\n",
    "text += f'Soma Total Pago LALAMOVE: {formatar_para_BRL(soma_total_lalamove)}<br>'\n",
    "text += f'Soma Valor Pago Cliente: {formatar_para_BRL(soma_total_cliente)}'\n",
    "\n",
    "p_n = \"Valor recebido a mais do que gastamos\" if soma_diferenca < 0 else \"Valor que gastamos a mais do que recebemos\"\n",
    "\n",
    "\n",
    "fig.update_layout(title=f'Valores por Data - Soma da Diferença: {formatar_para_BRL(-1 *soma_diferenca)} ({p_n})')\n",
    "\n",
    "fig.add_annotation(\n",
    "    text=text,\n",
    "    xref='paper', yref='paper',\n",
    "    x=1, y=1.05,  # Ajuste a coordenada y para mover o texto para cima\n",
    "    showarrow=False,\n",
    "    font=dict(size=12)\n",
    ")\n",
    "\n",
    "fig.show()\n"
   ]
  }
 ],
 "metadata": {
  "kernelspec": {
   "display_name": "Python 3",
   "language": "python",
   "name": "python3"
  },
  "language_info": {
   "codemirror_mode": {
    "name": "ipython",
    "version": 3
   },
   "file_extension": ".py",
   "mimetype": "text/x-python",
   "name": "python",
   "nbconvert_exporter": "python",
   "pygments_lexer": "ipython3",
   "version": "3.10.6"
  }
 },
 "nbformat": 4,
 "nbformat_minor": 2
}
